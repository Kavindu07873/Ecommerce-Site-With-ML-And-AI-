{
 "cells": [
  {
   "cell_type": "code",
   "execution_count": 2,
   "metadata": {},
   "outputs": [],
   "source": [
    "import numpy as np"
   ]
  },
  {
   "cell_type": "code",
   "execution_count": 3,
   "metadata": {},
   "outputs": [],
   "source": [
    "import json\n",
    "\n",
    "with open('../artifacts/kaggle.json', 'r') as file:\n",
    "    data = json.load(file)\n"
   ]
  },
  {
   "cell_type": "code",
   "execution_count": 4,
   "metadata": {},
   "outputs": [
    {
     "data": {
      "text/plain": [
       "{'username': 'dilshankavindu', 'key': '4855156b2a7f895abef1a274f5a8d89f'}"
      ]
     },
     "execution_count": 4,
     "metadata": {},
     "output_type": "execute_result"
    }
   ],
   "source": [
    "data"
   ]
  },
  {
   "cell_type": "code",
   "execution_count": 5,
   "metadata": {},
   "outputs": [
    {
     "name": "stdout",
     "output_type": "stream",
     "text": [
      "Requirement already satisfied: kaggle in c:\\users\\acer\\dropbox\\my pc (laptop-f1cdu48f)\\desktop\\new python project\\python_django_learn_udemy_project\\ecomercesite\\env\\lib\\site-packages (1.6.3)\n",
      "Requirement already satisfied: six>=1.10 in c:\\users\\acer\\dropbox\\my pc (laptop-f1cdu48f)\\desktop\\new python project\\python_django_learn_udemy_project\\ecomercesite\\env\\lib\\site-packages (from kaggle) (1.16.0)\n",
      "Requirement already satisfied: certifi in c:\\users\\acer\\dropbox\\my pc (laptop-f1cdu48f)\\desktop\\new python project\\python_django_learn_udemy_project\\ecomercesite\\env\\lib\\site-packages (from kaggle) (2023.11.17)\n",
      "Requirement already satisfied: python-dateutil in c:\\users\\acer\\dropbox\\my pc (laptop-f1cdu48f)\\desktop\\new python project\\python_django_learn_udemy_project\\ecomercesite\\env\\lib\\site-packages (from kaggle) (2.8.2)\n",
      "Requirement already satisfied: requests in c:\\users\\acer\\dropbox\\my pc (laptop-f1cdu48f)\\desktop\\new python project\\python_django_learn_udemy_project\\ecomercesite\\env\\lib\\site-packages (from kaggle) (2.31.0)\n",
      "Requirement already satisfied: tqdm in c:\\users\\acer\\dropbox\\my pc (laptop-f1cdu48f)\\desktop\\new python project\\python_django_learn_udemy_project\\ecomercesite\\env\\lib\\site-packages (from kaggle) (4.66.1)\n",
      "Requirement already satisfied: python-slugify in c:\\users\\acer\\dropbox\\my pc (laptop-f1cdu48f)\\desktop\\new python project\\python_django_learn_udemy_project\\ecomercesite\\env\\lib\\site-packages (from kaggle) (8.0.1)\n",
      "Requirement already satisfied: urllib3 in c:\\users\\acer\\dropbox\\my pc (laptop-f1cdu48f)\\desktop\\new python project\\python_django_learn_udemy_project\\ecomercesite\\env\\lib\\site-packages (from kaggle) (2.1.0)\n",
      "Requirement already satisfied: bleach in c:\\users\\acer\\dropbox\\my pc (laptop-f1cdu48f)\\desktop\\new python project\\python_django_learn_udemy_project\\ecomercesite\\env\\lib\\site-packages (from kaggle) (6.1.0)\n",
      "Requirement already satisfied: webencodings in c:\\users\\acer\\dropbox\\my pc (laptop-f1cdu48f)\\desktop\\new python project\\python_django_learn_udemy_project\\ecomercesite\\env\\lib\\site-packages (from bleach->kaggle) (0.5.1)\n",
      "Requirement already satisfied: text-unidecode>=1.3 in c:\\users\\acer\\dropbox\\my pc (laptop-f1cdu48f)\\desktop\\new python project\\python_django_learn_udemy_project\\ecomercesite\\env\\lib\\site-packages (from python-slugify->kaggle) (1.3)\n",
      "Requirement already satisfied: charset-normalizer<4,>=2 in c:\\users\\acer\\dropbox\\my pc (laptop-f1cdu48f)\\desktop\\new python project\\python_django_learn_udemy_project\\ecomercesite\\env\\lib\\site-packages (from requests->kaggle) (3.3.2)\n",
      "Requirement already satisfied: idna<4,>=2.5 in c:\\users\\acer\\dropbox\\my pc (laptop-f1cdu48f)\\desktop\\new python project\\python_django_learn_udemy_project\\ecomercesite\\env\\lib\\site-packages (from requests->kaggle) (3.6)\n",
      "Requirement already satisfied: colorama in c:\\users\\acer\\dropbox\\my pc (laptop-f1cdu48f)\\desktop\\new python project\\python_django_learn_udemy_project\\ecomercesite\\env\\lib\\site-packages (from tqdm->kaggle) (0.4.6)\n",
      "Note: you may need to restart the kernel to use updated packages.\n"
     ]
    },
    {
     "name": "stderr",
     "output_type": "stream",
     "text": [
      "\n",
      "[notice] A new release of pip is available: 23.1.2 -> 23.3.2\n",
      "[notice] To update, run: python.exe -m pip install --upgrade pip\n"
     ]
    }
   ],
   "source": [
    "pip install kaggle"
   ]
  },
  {
   "cell_type": "code",
   "execution_count": 6,
   "metadata": {},
   "outputs": [],
   "source": [
    "import os \n",
    "os.environ['KAGGLE_USERNAME'] = data['username']\n",
    "os.environ['KAGGLE_KEY'] = data['key']"
   ]
  },
  {
   "cell_type": "code",
   "execution_count": 7,
   "metadata": {
    "scrolled": true
   },
   "outputs": [],
   "source": [
    "from kaggle.api.kaggle_api_extended import KaggleApi\n",
    "api = KaggleApi()\n",
    "api.authenticate()\n",
    "\n"
   ]
  },
  {
   "cell_type": "code",
   "execution_count": 8,
   "metadata": {},
   "outputs": [],
   "source": [
    "api.dataset_download_files('dineshpiyasamara/sentiment-analysis-dataset', path='../artifacts/')\n"
   ]
  },
  {
   "cell_type": "code",
   "execution_count": 9,
   "metadata": {},
   "outputs": [],
   "source": [
    "import zipfile\n",
    "with zipfile.ZipFile('../artifacts/sentiment-analysis-dataset.zip','r') as zip_ref:\n",
    "    zip_ref.extractall('../artifacts/')"
   ]
  },
  {
   "cell_type": "markdown",
   "metadata": {},
   "source": []
  }
 ],
 "metadata": {
  "kernelspec": {
   "display_name": "Python 3 (ipykernel)",
   "language": "python",
   "name": "python3"
  },
  "language_info": {
   "codemirror_mode": {
    "name": "ipython",
    "version": 3
   },
   "file_extension": ".py",
   "mimetype": "text/x-python",
   "name": "python",
   "nbconvert_exporter": "python",
   "pygments_lexer": "ipython3",
   "version": "3.11.4"
  }
 },
 "nbformat": 4,
 "nbformat_minor": 4
}
